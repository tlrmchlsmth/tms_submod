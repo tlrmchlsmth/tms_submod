{
 "cells": [
  {
   "cell_type": "code",
   "execution_count": 1,
   "metadata": {},
   "outputs": [],
   "source": [
    "import sys\n",
    "import numpy as np\n",
    "import torch\n",
    "from torch import nn\n",
    "from torch.autograd import gradcheck\n",
    "\n",
    "import matplotlib.pyplot as plt\n",
    "import pandas as pd\n",
    "\n",
    "import mnp"
   ]
  },
  {
   "cell_type": "code",
   "execution_count": 2,
   "metadata": {},
   "outputs": [
    {
     "ename": "RuntimeError",
     "evalue": "Jacobian mismatch for output 0 with respect to input 0,\nnumerical:tensor([[ 0.4700, -0.0768, -0.0949, -0.2079, -0.0686],\n        [ 0.0000,  0.3932, -0.0949, -0.2079, -0.0686],\n        [ 0.0000,  0.0000,  0.2983, -0.2079, -0.0686],\n        [ 0.0000,  0.0000,  0.0000,  0.0904, -0.0686],\n        [ 0.0000,  0.0000,  0.0000,  0.0000,  0.0217]], dtype=torch.float64)\nanalytical:tensor([[ 0.2100, -0.0698, -0.0499,  0.0000, -0.0686],\n        [ 0.0000,  0.1402, -0.0499,  0.0000, -0.0686],\n        [ 0.0000,  0.0000,  0.0904,  0.0000, -0.0686],\n        [-0.0883, -0.0698, -0.0499,  0.2983, -0.0686],\n        [ 0.0000,  0.0000,  0.0000,  0.0000,  0.0217]], dtype=torch.float64)\n",
     "output_type": "error",
     "traceback": [
      "\u001b[0;31m---------------------------------------------------------------------------\u001b[0m",
      "\u001b[0;31mRuntimeError\u001b[0m                              Traceback (most recent call last)",
      "\u001b[0;32m<ipython-input-2-81dc5087fb12>\u001b[0m in \u001b[0;36m<module>\u001b[0;34m\u001b[0m\n\u001b[1;32m      9\u001b[0m \u001b[0ms_input\u001b[0m \u001b[0;34m=\u001b[0m \u001b[0mtorch\u001b[0m\u001b[0;34m.\u001b[0m\u001b[0mtensor\u001b[0m\u001b[0;34m(\u001b[0m\u001b[0ms_input\u001b[0m\u001b[0;34m,\u001b[0m \u001b[0mrequires_grad\u001b[0m\u001b[0;34m=\u001b[0m\u001b[0;32mTrue\u001b[0m\u001b[0;34m)\u001b[0m\u001b[0;34m\u001b[0m\u001b[0;34m\u001b[0m\u001b[0m\n\u001b[1;32m     10\u001b[0m \u001b[0mm_input\u001b[0m \u001b[0;34m=\u001b[0m \u001b[0mtorch\u001b[0m\u001b[0;34m.\u001b[0m\u001b[0mzeros\u001b[0m\u001b[0;34m(\u001b[0m\u001b[0mn\u001b[0m\u001b[0;34m)\u001b[0m\u001b[0;34m\u001b[0m\u001b[0;34m\u001b[0m\u001b[0m\n\u001b[0;32m---> 11\u001b[0;31m \u001b[0mtest\u001b[0m \u001b[0;34m=\u001b[0m \u001b[0mgradcheck\u001b[0m\u001b[0;34m(\u001b[0m\u001b[0mmnp\u001b[0m\u001b[0;34m.\u001b[0m\u001b[0mDeepSubmodular\u001b[0m\u001b[0;34m.\u001b[0m\u001b[0mapply\u001b[0m\u001b[0;34m,\u001b[0m \u001b[0;34m(\u001b[0m\u001b[0ms_input\u001b[0m\u001b[0;34m,\u001b[0m \u001b[0mm_input\u001b[0m\u001b[0;34m,\u001b[0m \u001b[0mn\u001b[0m\u001b[0;34m,\u001b[0m \u001b[0mlayer_sizes\u001b[0m\u001b[0;34m)\u001b[0m\u001b[0;34m,\u001b[0m \u001b[0meps\u001b[0m\u001b[0;34m=\u001b[0m\u001b[0;36m1e-6\u001b[0m\u001b[0;34m,\u001b[0m \u001b[0matol\u001b[0m\u001b[0;34m=\u001b[0m\u001b[0;36m.1\u001b[0m\u001b[0;34m)\u001b[0m\u001b[0;34m\u001b[0m\u001b[0;34m\u001b[0m\u001b[0m\n\u001b[0m\u001b[1;32m     12\u001b[0m \u001b[0mprint\u001b[0m\u001b[0;34m(\u001b[0m\u001b[0mtest\u001b[0m\u001b[0;34m)\u001b[0m\u001b[0;34m\u001b[0m\u001b[0;34m\u001b[0m\u001b[0m\n\u001b[1;32m     13\u001b[0m \u001b[0;31m#Note:test fails for modular weights but I believe this is a problem with gradcheck\u001b[0m\u001b[0;34m\u001b[0m\u001b[0;34m\u001b[0m\u001b[0;34m\u001b[0m\u001b[0m\n",
      "\u001b[0;32m/usr/local/lib/python3.7/site-packages/torch/autograd/gradcheck.py\u001b[0m in \u001b[0;36mgradcheck\u001b[0;34m(func, inputs, eps, atol, rtol, raise_exception, check_sparse_nnz)\u001b[0m\n\u001b[1;32m    284\u001b[0m                 \u001b[0;32mif\u001b[0m \u001b[0;32mnot\u001b[0m \u001b[0mtorch\u001b[0m\u001b[0;34m.\u001b[0m\u001b[0mallclose\u001b[0m\u001b[0;34m(\u001b[0m\u001b[0ma\u001b[0m\u001b[0;34m,\u001b[0m \u001b[0mn\u001b[0m\u001b[0;34m,\u001b[0m \u001b[0mrtol\u001b[0m\u001b[0;34m,\u001b[0m \u001b[0matol\u001b[0m\u001b[0;34m)\u001b[0m\u001b[0;34m:\u001b[0m\u001b[0;34m\u001b[0m\u001b[0;34m\u001b[0m\u001b[0m\n\u001b[1;32m    285\u001b[0m                     return fail_test('Jacobian mismatch for output %d with respect to input %d,\\n'\n\u001b[0;32m--> 286\u001b[0;31m                                      'numerical:%s\\nanalytical:%s\\n' % (i, j, n, a))\n\u001b[0m\u001b[1;32m    287\u001b[0m \u001b[0;34m\u001b[0m\u001b[0m\n\u001b[1;32m    288\u001b[0m         \u001b[0;32mif\u001b[0m \u001b[0;32mnot\u001b[0m \u001b[0mreentrant\u001b[0m\u001b[0;34m:\u001b[0m\u001b[0;34m\u001b[0m\u001b[0;34m\u001b[0m\u001b[0m\n",
      "\u001b[0;32m/usr/local/lib/python3.7/site-packages/torch/autograd/gradcheck.py\u001b[0m in \u001b[0;36mfail_test\u001b[0;34m(msg)\u001b[0m\n\u001b[1;32m    222\u001b[0m     \u001b[0;32mdef\u001b[0m \u001b[0mfail_test\u001b[0m\u001b[0;34m(\u001b[0m\u001b[0mmsg\u001b[0m\u001b[0;34m)\u001b[0m\u001b[0;34m:\u001b[0m\u001b[0;34m\u001b[0m\u001b[0;34m\u001b[0m\u001b[0m\n\u001b[1;32m    223\u001b[0m         \u001b[0;32mif\u001b[0m \u001b[0mraise_exception\u001b[0m\u001b[0;34m:\u001b[0m\u001b[0;34m\u001b[0m\u001b[0;34m\u001b[0m\u001b[0m\n\u001b[0;32m--> 224\u001b[0;31m             \u001b[0;32mraise\u001b[0m \u001b[0mRuntimeError\u001b[0m\u001b[0;34m(\u001b[0m\u001b[0mmsg\u001b[0m\u001b[0;34m)\u001b[0m\u001b[0;34m\u001b[0m\u001b[0;34m\u001b[0m\u001b[0m\n\u001b[0m\u001b[1;32m    225\u001b[0m         \u001b[0;32mreturn\u001b[0m \u001b[0;32mFalse\u001b[0m\u001b[0;34m\u001b[0m\u001b[0;34m\u001b[0m\u001b[0m\n\u001b[1;32m    226\u001b[0m \u001b[0;34m\u001b[0m\u001b[0m\n",
      "\u001b[0;31mRuntimeError\u001b[0m: Jacobian mismatch for output 0 with respect to input 0,\nnumerical:tensor([[ 0.4700, -0.0768, -0.0949, -0.2079, -0.0686],\n        [ 0.0000,  0.3932, -0.0949, -0.2079, -0.0686],\n        [ 0.0000,  0.0000,  0.2983, -0.2079, -0.0686],\n        [ 0.0000,  0.0000,  0.0000,  0.0904, -0.0686],\n        [ 0.0000,  0.0000,  0.0000,  0.0000,  0.0217]], dtype=torch.float64)\nanalytical:tensor([[ 0.2100, -0.0698, -0.0499,  0.0000, -0.0686],\n        [ 0.0000,  0.1402, -0.0499,  0.0000, -0.0686],\n        [ 0.0000,  0.0000,  0.0904,  0.0000, -0.0686],\n        [-0.0883, -0.0698, -0.0499,  0.2983, -0.0686],\n        [ 0.0000,  0.0000,  0.0000,  0.0000,  0.0217]], dtype=torch.float64)\n"
     ]
    }
   ],
   "source": [
    "#Check Gradient\n",
    "n = 5\n",
    "layer_sizes = np.ones(1, dtype=np.int64)\n",
    "layer_sizes *= 1\n",
    "\n",
    "#Generate input for DSF\n",
    "s_input, m_input = mnp.gen_deep_submodular_bernoulli(n, layer_sizes, p=0.2)\n",
    "s_input += 0.5 #Needed for layers - eps to be positive\n",
    "s_input = torch.tensor(s_input, requires_grad=True)\n",
    "m_input = torch.zeros(n)\n",
    "test = gradcheck(mnp.DeepSubmodular.apply, (s_input, m_input, n, layer_sizes), eps=1e-6, atol=.1)\n",
    "print(test)\n",
    "#Note:test fails for modular weights but I believe this is a problem with gradcheck\n",
    "\n",
    "#Generate input for LogQ loss\n",
    "#y = torch.rand(n, requires_grad=True, dtype=torch.float64)\n",
    "#y_gt = torch.rand(n, dtype=torch.float64)\n",
    "#test = gradcheck(mnp.LogQ.apply, (y, y_gt), eps=1e-6, atol=1e-4)\n",
    "#print(test)"
   ]
  },
  {
   "cell_type": "code",
   "execution_count": 5,
   "metadata": {},
   "outputs": [
    {
     "name": "stdout",
     "output_type": "stream",
     "text": [
      "Ground Truth F_A*:\t-22.494138683791782\n",
      "Ground Truth |A*|:\t53\n"
     ]
    }
   ],
   "source": [
    "#First generate a submodular set function that we want to fit\n",
    "#For now, generate a submodular set function\n",
    "n = 100\n",
    "layer_sizes = np.ones(3, dtype=np.int64)\n",
    "layer_sizes *= 10\n",
    "\n",
    "sub_weights_gt, mod_weights_gt = mnp.gen_deep_submodular_bernoulli(n, layer_sizes, p=0.2)\n",
    "FA_gt, yprime_gt = mnp.mnp_deep_contig_w(n, layer_sizes, sub_weights_gt, mod_weights_gt)\n",
    "\n",
    "card = np.count_nonzero(yprime_gt <= 0.0)\n",
    "print('Ground Truth F_A*:\\t' + str(FA_gt))\n",
    "print('Ground Truth |A*|:\\t' + str(card))\n",
    "#A = yprime_gt <= 0.0\n",
    "#F_A = mnp.dsf_eval(n, layer_sizes, sub_weights_gt, mod_weights_gt,  A)\n",
    "#print('Ground Truth F_A*:\\t' + str(F_A))\n",
    "\n",
    "A_gt = torch.ones(n, dtype=torch.float64)\n",
    "for i in range(n):\n",
    "    if yprime_gt[i].item() <= 0.0:\n",
    "        A_gt[i] = 1.0\n",
    "    else:\n",
    "        A_gt[i] = 0.0\n",
    "\n",
    "yprime_gt = torch.tensor(yprime_gt)\n"
   ]
  },
  {
   "cell_type": "code",
   "execution_count": 16,
   "metadata": {},
   "outputs": [
    {
     "name": "stdout",
     "output_type": "stream",
     "text": [
      "iteration 0 loss 69.88918195251304\n",
      "iteration 50 loss 4.187084203190361\n",
      "iteration 100 loss 2.069122209327383\n",
      "iteration 150 loss 1.3698765970101519\n",
      "iteration 200 loss 1.0229349089563833\n",
      "iteration 250 loss 0.8158406274981942\n",
      " F_A -182.5180314048955\n"
     ]
    },
    {
     "data": {
      "image/png": "[encoded data removed]",
      "text/plain": [
       "<Figure size 432x288 with 1 Axes>"
      ]
     },
     "metadata": {
      "needs_background": "light"
     },
     "output_type": "display_data"
    },
    {
     "data": {
      "image/png": "[encoded data removed]",
      "text/plain": [
       "<Figure size 432x288 with 1 Axes>"
      ]
     },
     "metadata": {
      "needs_background": "light"
     },
     "output_type": "display_data"
    }
   ],
   "source": [
    "#Initalize weights/variables\n",
    "s_weights, m_weights = mnp.gen_deep_submodular_bernoulli(n, layer_sizes,p=0.2)\n",
    "s_weights = torch.tensor(s_weights, requires_grad=True)\n",
    "m_weights = torch.tensor(m_weights, requires_grad=True)\n",
    "\n",
    "#Create Model\n",
    "deep_mnp = mnp.DeepSubmodular.apply\n",
    "loss_fn = mnp.LogQ(A_gt)\n",
    "\n",
    "#Use SGD\n",
    "optimizer = torch.optim.SGD([s_weights, m_weights], lr=5e-1)\n",
    "\n",
    "losses = []\n",
    "best_loss = 0\n",
    "for iter_num in range(251):\n",
    "    optimizer.zero_grad()\n",
    "    \n",
    "    yprime = deep_mnp(s_weights, m_weights, n, layer_sizes)\n",
    "    loss = loss_fn(yprime)\n",
    "\n",
    "    loss.backward(retain_graph=True)\n",
    "    optimizer.step()\n",
    "    s_weights.data.clamp_(min=0.0)\n",
    "    \n",
    "    if iter_num % 50 == 0:   \n",
    "        print('iteration ' + str(iter_num) + ' loss ' + str(loss.item()), end = '\\n')\n",
    "    losses.append(loss.item())\n",
    "        \n",
    "    if(iter_num == 0 or loss < best_loss):\n",
    "        best_loss = loss\n",
    "        best_s_weights = s_weights\n",
    "        best_m_weights = m_weights\n",
    "        \n",
    "A = (yprime <= 0.0).numpy()\n",
    "F_A = mnp.dsf_eval(n, layer_sizes, s_weights.detach().numpy(), m_weights.detach().numpy(),  A)\n",
    "print(' F_A ' + str (F_A))\n",
    "       \n",
    "df = pd.DataFrame(losses, columns=('losses',))\n",
    "df.plot()\n",
    "df = pd.DataFrame(A-A_gt.numpy(), columns=('A - A_gt',))\n",
    "df.plot()\n",
    "plt.show()"
   ]
  },
  {
   "cell_type": "code",
   "execution_count": 15,
   "metadata": {},
   "outputs": [
    {
     "name": "stdout",
     "output_type": "stream",
     "text": [
      "Ground Truth F_A*:\t-0.4326468028840047\n",
      "Ground Truth |A*|:\t38\n",
      "iteration 0 loss 79.20851657328782\n",
      "iteration 50 loss 0.9823457070603563\n",
      "iteration 100 loss 0.525922460697795\n",
      "iteration 150 loss 0.39553967888140007\n",
      "iteration 200 loss 0.32993655760797386\n",
      "iteration 250 loss 0.28855328986922135\n",
      " F_A -218.03432634491605\n"
     ]
    },
    {
     "data": {
      "image/png": "[encoded data removed]",
      "text/plain": [
       "<Figure size 432x288 with 1 Axes>"
      ]
     },
     "metadata": {
      "needs_background": "light"
     },
     "output_type": "display_data"
    },
    {
     "data": {
      "image/png": "[encoded data removed]",
      "text/plain": [
       "<Figure size 432x288 with 1 Axes>"
      ]
     },
     "metadata": {
      "needs_background": "light"
     },
     "output_type": "display_data"
    }
   ],
   "source": [
    "#First generate a submodular set function that we want to fit\n",
    "#For now, generate a mincut function\n",
    "n = 100\n",
    "FA_gt, yprime_gt = mnp.watts_strogatz_graph_cut_yprime(n, 16, 0.25)\n",
    "\n",
    "card = np.count_nonzero(yprime_gt <= 0.0)\n",
    "print('Ground Truth F_A*:\\t' + str(FA_gt))\n",
    "print('Ground Truth |A*|:\\t' + str(card))\n",
    "\n",
    "yprime_gt = torch.tensor(yprime_gt)\n",
    "\n",
    "A_gt = torch.ones(n, dtype=torch.float64)\n",
    "for i in range(n):\n",
    "    if yprime_gt[i].item() <= 0.0:\n",
    "        A_gt[i] = 1.0\n",
    "    else:\n",
    "        A_gt[i] = 0.0\n",
    "\n",
    "#Create Model\n",
    "deep_mnp = mnp.DeepSubmodular.apply\n",
    "loss_fn = mnp.LogQ(A_gt)\n",
    "\n",
    "#Use SGD\n",
    "optimizer = torch.optim.SGD([s_weights, m_weights], lr=5e-1)\n",
    "\n",
    "losses = []\n",
    "best_loss = 0\n",
    "for iter_num in range(251):\n",
    "    optimizer.zero_grad()\n",
    "    \n",
    "    yprime = deep_mnp(s_weights, m_weights, n, layer_sizes)\n",
    "    loss = loss_fn(yprime)\n",
    "\n",
    "    loss.backward(retain_graph=True)\n",
    "    optimizer.step()\n",
    "    s_weights.data.clamp_(min=0.0)\n",
    "    \n",
    "    if iter_num % 50 == 0:   \n",
    "        print('iteration ' + str(iter_num) + ' loss ' + str(loss.item()), end = '\\n')\n",
    "    losses.append(loss.item())\n",
    "        \n",
    "    if(iter_num == 0 or loss < best_loss):\n",
    "        best_loss = loss\n",
    "        best_s_weights = s_weights\n",
    "        best_m_weights = m_weights\n",
    "        \n",
    "A = (yprime <= 0.0).numpy()\n",
    "F_A = mnp.dsf_eval(n, layer_sizes, s_weights.detach().numpy(), m_weights.detach().numpy(),  A)\n",
    "print(' F_A ' + str (F_A))\n",
    "       \n",
    "df = pd.DataFrame(losses, columns=('losses',))\n",
    "df.plot()\n",
    "df = pd.DataFrame(A-A_gt.numpy(), columns=('A - A_gt',))\n",
    "df.plot()\n",
    "plt.show()"
   ]
  },
  {
   "cell_type": "code",
   "execution_count": null,
   "metadata": {},
   "outputs": [],
   "source": []
  }
 ],
 "metadata": {
  "kernelspec": {
   "display_name": "Python 3",
   "language": "python",
   "name": "python3"
  },
  "language_info": {
   "codemirror_mode": {
    "name": "ipython",
    "version": 3
   },
   "file_extension": ".py",
   "mimetype": "text/x-python",
   "name": "python",
   "nbconvert_exporter": "python",
   "pygments_lexer": "ipython3",
   "version": "3.7.4"
  }
 },
 "nbformat": 4,
 "nbformat_minor": 2
}
