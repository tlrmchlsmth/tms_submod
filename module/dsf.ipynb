{
 "cells": [
  {
   "cell_type": "code",
   "execution_count": 1,
   "metadata": {},
   "outputs": [],
   "source": [
    "import sys\n",
    "import numpy as np\n",
    "import torch\n",
    "from torch.autograd import gradcheck\n",
    "\n",
    "import matplotlib\n",
    "import pandas as pd\n",
    "\n",
    "import mnp"
   ]
  },
  {
   "cell_type": "code",
   "execution_count": 2,
   "metadata": {},
   "outputs": [
    {
     "name": "stdout",
     "output_type": "stream",
     "text": [
      "True\n",
      "True\n"
     ]
    }
   ],
   "source": [
    "#Check Gradient\n",
    "n = 5\n",
    "layer_sizes = np.ones(3, dtype=np.int64)\n",
    "layer_sizes *= 3\n",
    "\n",
    "#Generate input for DSF\n",
    "s_input, m_input = mnp.gen_deep_submodular_bernoulli(n, layer_sizes, p=0.2)\n",
    "s_input += 0.5 #Needed for layers - eps to be positive\n",
    "s_input = torch.tensor(s_input, requires_grad=True)\n",
    "m_input = torch.tensor(m_input, requires_grad=False)\n",
    "test = gradcheck(mnp.DeepSubmodular.apply, (s_input, m_input, n, layer_sizes), eps=1e-8, atol=5e-1)\n",
    "print(test)\n",
    "\n",
    "#Generate input for LogQ loss\n",
    "y = torch.rand(n, requires_grad=True, dtype=torch.float64)\n",
    "y_gt = torch.rand(n, dtype=torch.float64)\n",
    "test = gradcheck(mnp.LogQ.apply, (y, y_gt), eps=1e-6, atol=1e-4)\n",
    "print(test)"
   ]
  },
  {
   "cell_type": "code",
   "execution_count": 3,
   "metadata": {},
   "outputs": [
    {
     "name": "stdout",
     "output_type": "stream",
     "text": [
      "Ground Truth F_A*:\t-15.596981707785133\n",
      "Ground Truth |A*|:\t48\n"
     ]
    }
   ],
   "source": [
    "#First generate a submodular set function that we want to fit\n",
    "#For now, generate a submodular set function\n",
    "n = 100\n",
    "layer_sizes = np.ones(3, dtype=np.int64)\n",
    "layer_sizes *= 10\n",
    "\n",
    "sub_weights_gt, mod_weights_gt = mnp.gen_deep_submodular_bernoulli(n, layer_sizes, p=0.2)\n",
    "FA_gt, yprime_gt = mnp.mnp_deep_contig_w(n, layer_sizes, sub_weights_gt, mod_weights_gt)\n",
    "\n",
    "card = np.count_nonzero(yprime_gt <= 0.0)\n",
    "print('Ground Truth F_A*:\\t' + str(FA_gt))\n",
    "print('Ground Truth |A*|:\\t' + str(card))\n",
    "\n",
    "yprime_gt = torch.tensor(yprime_gt)\n"
   ]
  },
  {
   "cell_type": "code",
   "execution_count": null,
   "metadata": {},
   "outputs": [
    {
     "name": "stdout",
     "output_type": "stream",
     "text": [
      "iteration 0 loss 72.14332281904609\n",
      "iteration 50 loss 4.148435375993554\n",
      "iteration 100 loss 2.047433758092062\n",
      "iteration 150 loss 1.3552410006078104\n",
      "iteration 200 loss 1.0119333695221022\n",
      "iteration 250 loss 0.8070927585566823\n",
      "iteration 300 loss 0.6710862373006501\n",
      "iteration 350 loss 0.5742401656723194\n"
     ]
    }
   ],
   "source": [
    "#Initalize weights/variables\n",
    "s_weights, m_weights = mnp.gen_deep_submodular_bernoulli(n, layer_sizes,p=0.2)\n",
    "s_weights = torch.tensor(s_weights, requires_grad=True)\n",
    "m_weights = torch.tensor(m_weights, requires_grad=True)\n",
    "\n",
    "#Create Model\n",
    "deep_mnp = mnp.DeepSubmodular.apply\n",
    "loss_fn = mnp.LogQ.apply\n",
    "\n",
    "#Use SGD\n",
    "optimizer = torch.optim.SGD([s_weights, m_weights], lr=5e-1)\n",
    "\n",
    "losses = []\n",
    "best_loss = 0\n",
    "for iter_num in range(500):\n",
    "    optimizer.zero_grad()\n",
    "    \n",
    "    yprime = deep_mnp(s_weights, m_weights, n, layer_sizes)\n",
    "    loss = loss_fn(yprime, yprime_gt)\n",
    "\n",
    "    loss.backward(retain_graph=True)\n",
    "    optimizer.step()\n",
    "    s_weights.data.clamp_(min=0.0)\n",
    "    \n",
    "    if iter_num % 50 == 0:   \n",
    "        print('iteration ' + str(iter_num) + ' loss ' + str(loss.item()))\n",
    "    losses.append(loss.item())\n",
    "        \n",
    "    if(iter_num == 0 or loss < best_loss):\n",
    "        best_loss = loss\n",
    "        best_s_weights = s_weights\n",
    "        best_m_weights = m_weights\n",
    "\n",
    "df = pd.DataFrame(losses, columns=('losses',))\n",
    "df.plot()\n",
    "    "
   ]
  },
  {
   "cell_type": "code",
   "execution_count": null,
   "metadata": {},
   "outputs": [],
   "source": []
  }
 ],
 "metadata": {
  "kernelspec": {
   "display_name": "Python 3",
   "language": "python",
   "name": "python3"
  },
  "language_info": {
   "codemirror_mode": {
    "name": "ipython",
    "version": 3
   },
   "file_extension": ".py",
   "mimetype": "text/x-python",
   "name": "python",
   "nbconvert_exporter": "python",
   "pygments_lexer": "ipython3",
   "version": "3.7.4"
  }
 },
 "nbformat": 4,
 "nbformat_minor": 2
}
